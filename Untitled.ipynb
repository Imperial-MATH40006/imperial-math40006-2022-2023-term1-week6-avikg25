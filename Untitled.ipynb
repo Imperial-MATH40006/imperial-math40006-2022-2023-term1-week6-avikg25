{
 "cells": [
  {
   "cell_type": "code",
   "execution_count": 1,
   "id": "a92600d3",
   "metadata": {},
   "outputs": [
    {
     "data": {
      "text/plain": [
       "10.0"
      ]
     },
     "execution_count": 1,
     "metadata": {},
     "output_type": "execute_result"
    }
   ],
   "source": [
    "5+5.0\n"
   ]
  },
  {
   "cell_type": "code",
   "execution_count": 2,
   "id": "2359a6ae",
   "metadata": {},
   "outputs": [
    {
     "data": {
      "text/plain": [
       "True"
      ]
     },
     "execution_count": 2,
     "metadata": {},
     "output_type": "execute_result"
    }
   ],
   "source": [
    "complex(1,0) == 1\n"
   ]
  },
  {
   "cell_type": "code",
   "execution_count": 3,
   "id": "c919c028",
   "metadata": {},
   "outputs": [
    {
     "data": {
      "text/plain": [
       "12"
      ]
     },
     "execution_count": 3,
     "metadata": {},
     "output_type": "execute_result"
    }
   ],
   "source": [
    "4^8"
   ]
  },
  {
   "cell_type": "code",
   "execution_count": 4,
   "id": "4f8ec495",
   "metadata": {},
   "outputs": [
    {
     "data": {
      "text/plain": [
       "1"
      ]
     },
     "execution_count": 4,
     "metadata": {},
     "output_type": "execute_result"
    }
   ],
   "source": [
    "4^5"
   ]
  },
  {
   "cell_type": "code",
   "execution_count": 5,
   "id": "804c80bd",
   "metadata": {},
   "outputs": [
    {
     "data": {
      "text/plain": [
       "11"
      ]
     },
     "execution_count": 5,
     "metadata": {},
     "output_type": "execute_result"
    }
   ],
   "source": [
    "3^8"
   ]
  },
  {
   "cell_type": "code",
   "execution_count": 6,
   "id": "830f6ebe",
   "metadata": {},
   "outputs": [
    {
     "data": {
      "text/plain": [
       "20"
      ]
     },
     "execution_count": 6,
     "metadata": {},
     "output_type": "execute_result"
    }
   ],
   "source": [
    "4^16"
   ]
  },
  {
   "cell_type": "code",
   "execution_count": 7,
   "id": "9db0ae36",
   "metadata": {},
   "outputs": [
    {
     "data": {
      "text/plain": [
       "10"
      ]
     },
     "execution_count": 7,
     "metadata": {},
     "output_type": "execute_result"
    }
   ],
   "source": [
    "9^3"
   ]
  },
  {
   "cell_type": "code",
   "execution_count": 8,
   "id": "5eadf59d",
   "metadata": {},
   "outputs": [
    {
     "data": {
      "text/plain": [
       "str"
      ]
     },
     "execution_count": 8,
     "metadata": {},
     "output_type": "execute_result"
    }
   ],
   "source": [
    "type('house')"
   ]
  },
  {
   "cell_type": "code",
   "execution_count": 9,
   "id": "2b669aac",
   "metadata": {},
   "outputs": [
    {
     "data": {
      "text/plain": [
       "True"
      ]
     },
     "execution_count": 9,
     "metadata": {},
     "output_type": "execute_result"
    }
   ],
   "source": [
    "type('house') == str"
   ]
  },
  {
   "cell_type": "code",
   "execution_count": 11,
   "id": "abf96c7d",
   "metadata": {},
   "outputs": [
    {
     "ename": "IndentationError",
     "evalue": "expected an indented block (<ipython-input-11-f648fe68bd46>, line 3)",
     "output_type": "error",
     "traceback": [
      "\u001b[1;36m  File \u001b[1;32m\"<ipython-input-11-f648fe68bd46>\"\u001b[1;36m, line \u001b[1;32m3\u001b[0m\n\u001b[1;33m    n == 'one'\u001b[0m\n\u001b[1;37m    ^\u001b[0m\n\u001b[1;31mIndentationError\u001b[0m\u001b[1;31m:\u001b[0m expected an indented block\n"
     ]
    }
   ],
   "source": [
    "for n in ['one']:\n",
    "    \n",
    "n == 'one'"
   ]
  },
  {
   "cell_type": "code",
   "execution_count": 14,
   "id": "d47138fd",
   "metadata": {},
   "outputs": [
    {
     "name": "stdout",
     "output_type": "stream",
     "text": [
      "[0j, 'uno', 2, 3.0, (4+0j), 'five', 6, 7.0, (8+0j), 'nine', 10, 11.0, (12+0j), 'thirteen', 14, 15.0, (16+0j), 'seventeen', 18, 19.0]\n"
     ]
    }
   ],
   "source": [
    "\n",
    "list1 = [0j, 'one', 2, 3.0, (4+0j), 'five', 6, 7.0, (8+0j), 'nine', 10, 11.0, (12+0j), 'thirteen', 14, 15.0, (16+0j), 'seventeen', 18, 19.0]\n",
    "\n",
    "list1[1] = list1[1].replace('one','uno')\n",
    "\n",
    "print(list1)\n"
   ]
  },
  {
   "cell_type": "code",
   "execution_count": 15,
   "id": "576c7328",
   "metadata": {},
   "outputs": [
    {
     "name": "stdout",
     "output_type": "stream",
     "text": [
      "Hello\n"
     ]
    }
   ],
   "source": [
    "string = 'Hello'\n",
    "string.lower()\n",
    "print(string)"
   ]
  },
  {
   "cell_type": "code",
   "execution_count": null,
   "id": "3d7624ed",
   "metadata": {},
   "outputs": [],
   "source": []
  }
 ],
 "metadata": {
  "kernelspec": {
   "display_name": "Python 3 (ipykernel)",
   "language": "python",
   "name": "python3"
  },
  "language_info": {
   "codemirror_mode": {
    "name": "ipython",
    "version": 3
   },
   "file_extension": ".py",
   "mimetype": "text/x-python",
   "name": "python",
   "nbconvert_exporter": "python",
   "pygments_lexer": "ipython3",
   "version": "3.9.13"
  }
 },
 "nbformat": 4,
 "nbformat_minor": 5
}
